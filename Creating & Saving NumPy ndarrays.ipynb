{
 "cells": [
  {
   "cell_type": "code",
   "execution_count": 2,
   "metadata": {},
   "outputs": [],
   "source": [
    "import numpy as np"
   ]
  },
  {
   "cell_type": "code",
   "execution_count": 2,
   "metadata": {},
   "outputs": [],
   "source": [
    "x = np.array([1,2,3,4,5])"
   ]
  },
  {
   "cell_type": "code",
   "execution_count": 3,
   "metadata": {},
   "outputs": [
    {
     "name": "stdout",
     "output_type": "stream",
     "text": [
      "x =  [1 2 3 4 5]\n"
     ]
    }
   ],
   "source": [
    "print('x = ', x)"
   ]
  },
  {
   "cell_type": "code",
   "execution_count": 5,
   "metadata": {},
   "outputs": [
    {
     "data": {
      "text/plain": [
       "1"
      ]
     },
     "execution_count": 5,
     "metadata": {},
     "output_type": "execute_result"
    }
   ],
   "source": [
    "x.ndim"
   ]
  },
  {
   "cell_type": "code",
   "execution_count": 24,
   "metadata": {},
   "outputs": [
    {
     "name": "stdout",
     "output_type": "stream",
     "text": [
      "[[ 1  2  3]\n",
      " [ 4  5  6]\n",
      " [ 7  8  9]\n",
      " [10 11 12]]\n",
      "(4, 3)\n"
     ]
    }
   ],
   "source": [
    "Y = np.array([[1,2,3], [4,5,6],[7,8,9],[10,11,12]])\n",
    "print(Y)\n",
    "Y.ndim\n",
    "print(Y.shape)"
   ]
  },
  {
   "cell_type": "code",
   "execution_count": 4,
   "metadata": {},
   "outputs": [
    {
     "name": "stdout",
     "output_type": "stream",
     "text": [
      "[[[0. 0. 0. 0.]\n",
      "  [0. 0. 0. 0.]\n",
      "  [0. 0. 0. 0.]]\n",
      "\n",
      " [[0. 0. 0. 0.]\n",
      "  [0. 0. 0. 0.]\n",
      "  [0. 0. 0. 0.]]]\n"
     ]
    }
   ],
   "source": [
    "y = np.zeros((2,3,4))\n",
    "y.ndim\n",
    "print(y)"
   ]
  },
  {
   "cell_type": "code",
   "execution_count": 17,
   "metadata": {},
   "outputs": [
    {
     "name": "stdout",
     "output_type": "stream",
     "text": [
      "x =  [1 2 3 4 5]\n",
      "x has dimensions: (5,)\n",
      "x is an object of type: <class 'numpy.ndarray'>\n",
      "The elements in x are of type: int64\n"
     ]
    }
   ],
   "source": [
    "print(\"x = \", x)\n",
    "print('x has dimensions:', x.shape)\n",
    "print('x is an object of type:', type(x))\n",
    "print('The elements in x are of type:', x.dtype)"
   ]
  },
  {
   "cell_type": "code",
   "execution_count": 18,
   "metadata": {},
   "outputs": [],
   "source": [
    "w = np.array(['Hello', 'World'])"
   ]
  },
  {
   "cell_type": "code",
   "execution_count": 22,
   "metadata": {},
   "outputs": [
    {
     "name": "stdout",
     "output_type": "stream",
     "text": [
      "w =  ['Hello' 'World']\n",
      "w has dimensions: (2,)\n",
      "w is an object of type: <class 'numpy.ndarray'>\n",
      "The elements in w are of type: <U5\n"
     ]
    }
   ],
   "source": [
    "print('w = ', w )\n",
    "print('w has dimensions:', w.shape)\n",
    "print('w is an object of type:', type(w)) \n",
    "print('The elements in w are of type:', w.dtype)"
   ]
  },
  {
   "cell_type": "code",
   "execution_count": 29,
   "metadata": {},
   "outputs": [
    {
     "name": "stdout",
     "output_type": "stream",
     "text": [
      "m =  ['1' '2' 'World']\n",
      "m has dimensions: (3,)\n",
      "m is an object of type: <class 'numpy.ndarray'>\n",
      "The elements in m are of type: <U21\n"
     ]
    }
   ],
   "source": [
    "m = np.array([1,2, 'World'])\n",
    "print ('m = ', m)\n",
    "print('m has dimensions:', m.shape)\n",
    "print('m is an object of type:', type(m))\n",
    "print('The elements in m are of type:', m.dtype)"
   ]
  },
  {
   "cell_type": "code",
   "execution_count": 30,
   "metadata": {},
   "outputs": [
    {
     "name": "stdout",
     "output_type": "stream",
     "text": [
      "The elements in i are of type: int64\n",
      "The elements in f are of type: float64\n",
      "The elements in z are of type: float64\n"
     ]
    }
   ],
   "source": [
    "i = np.array([1,2,3])\n",
    "f = np.array([1.9,2.9,3.0])\n",
    "z = np.array([1, 2.5, 4])\n",
    "print('The elements in i are of type:', i.dtype)\n",
    "print('The elements in f are of type:', f.dtype)\n",
    "print('The elements in z are of type:', z.dtype)\n"
   ]
  },
  {
   "cell_type": "code",
   "execution_count": 31,
   "metadata": {},
   "outputs": [
    {
     "name": "stdout",
     "output_type": "stream",
     "text": [
      "r =  [1 2 3 4 5]\n",
      "The elements in r are of type: int64\n"
     ]
    }
   ],
   "source": [
    "r = np.array([1.5, 2.2, 3.7, 4.0, 5.9], dtype = np.int64)\n",
    "print('r = ', r)\n",
    "print('The elements in r are of type:', r.dtype)\n"
   ]
  },
  {
   "cell_type": "code",
   "execution_count": 34,
   "metadata": {},
   "outputs": [
    {
     "data": {
      "text/plain": [
       "array([[ 1,  2,  3],\n",
       "       [ 4,  5,  6],\n",
       "       [ 7,  8,  9],\n",
       "       [10, 11, 12]])"
      ]
     },
     "execution_count": 34,
     "metadata": {},
     "output_type": "execute_result"
    }
   ],
   "source": [
    "t = np.array([[1,2,3],[4,5,6],[7,8,9],[10,11,12]])\n",
    "t"
   ]
  },
  {
   "cell_type": "code",
   "execution_count": 39,
   "metadata": {},
   "outputs": [
    {
     "name": "stdout",
     "output_type": "stream",
     "text": [
      "t = \n",
      " [[ 1  2  3]\n",
      " [ 4  5  6]\n",
      " [ 7  8  9]\n",
      " [10 11 12]]\n",
      "t has dimensions: (4, 3)\n",
      "t has a total of 12 elements\n",
      "t has an object of type: <class 'numpy.ndarray'>\n",
      "The elements in t are of type: int64\n"
     ]
    }
   ],
   "source": [
    "print('t = \\n', t)\n",
    "print('t has dimensions:', t.shape)\n",
    "print('t has a total of', t.size, 'elements')\n",
    "print('t has an object of type:', type(t))\n",
    "print('The elements in t are of type:', t.dtype)"
   ]
  },
  {
   "cell_type": "code",
   "execution_count": 40,
   "metadata": {},
   "outputs": [],
   "source": [
    "np.save('my_array', t)"
   ]
  },
  {
   "cell_type": "code",
   "execution_count": 41,
   "metadata": {},
   "outputs": [],
   "source": [
    "lion = np.load('my_array.npy')"
   ]
  },
  {
   "cell_type": "code",
   "execution_count": 42,
   "metadata": {},
   "outputs": [
    {
     "name": "stdout",
     "output_type": "stream",
     "text": [
      "[[ 1  2  3]\n",
      " [ 4  5  6]\n",
      " [ 7  8  9]\n",
      " [10 11 12]]\n"
     ]
    }
   ],
   "source": [
    "print(lion)"
   ]
  },
  {
   "cell_type": "code",
   "execution_count": 43,
   "metadata": {},
   "outputs": [
    {
     "name": "stdout",
     "output_type": "stream",
     "text": [
      "\n",
      "lion =  [[ 1  2  3]\n",
      " [ 4  5  6]\n",
      " [ 7  8  9]\n",
      " [10 11 12]]\n",
      "\n",
      "lion is an object of type: <class 'numpy.ndarray'>\n",
      "The elements in lion are of type: int64\n"
     ]
    }
   ],
   "source": [
    "print()\n",
    "print('lion = ', lion)\n",
    "print()\n",
    "\n",
    "# We print information about the ndarray we loaded\n",
    "print('lion is an object of type:', type(lion))\n",
    "print('The elements in lion are of type:', lion.dtype)"
   ]
  },
  {
   "cell_type": "code",
   "execution_count": null,
   "metadata": {},
   "outputs": [],
   "source": []
  }
 ],
 "metadata": {
  "kernelspec": {
   "display_name": "Python 3",
   "language": "python",
   "name": "python3"
  },
  "language_info": {
   "codemirror_mode": {
    "name": "ipython",
    "version": 3
   },
   "file_extension": ".py",
   "mimetype": "text/x-python",
   "name": "python",
   "nbconvert_exporter": "python",
   "pygments_lexer": "ipython3",
   "version": "3.8.5"
  }
 },
 "nbformat": 4,
 "nbformat_minor": 4
}
